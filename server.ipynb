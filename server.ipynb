{
 "cells": [
  {
   "cell_type": "code",
   "execution_count": 1,
   "metadata": {},
   "outputs": [],
   "source": [
    "from flask import Flask, request\n",
    "import json\n",
    "import pandas as pd\n",
    "import os"
   ]
  },
  {
   "cell_type": "code",
   "execution_count": 2,
   "metadata": {},
   "outputs": [],
   "source": [
    "male = pd.read_csv('dataset/male.csv').set_index('index')\n",
    "female = pd.read_csv('dataset/female.csv').set_index('index')\n",
    "none = pd.read_csv('dataset/none.csv').set_index('index')\n",
    "\n",
    "users = pd.read_csv('dataset/users.csv').set_index('index')"
   ]
  },
  {
   "cell_type": "code",
   "execution_count": 3,
   "metadata": {},
   "outputs": [],
   "source": [
    "malejson = male.to_json(orient='records',force_ascii=False)\n",
    "femalejson = female.to_json(orient='records',force_ascii=False)\n",
    "nonejson = none.to_json(orient='records',force_ascii=False)"
   ]
  },
  {
   "cell_type": "code",
   "execution_count": null,
   "metadata": {},
   "outputs": [],
   "source": [
    "app = Flask(__name__)"
   ]
  },
  {
   "cell_type": "code",
   "execution_count": null,
   "metadata": {},
   "outputs": [],
   "source": [
    "@app.route('/')\n",
    "@app.route('/index',methods=['POST'])\n",
    "def index():\n",
    "    \n",
    "    user = str(request.form['user_name'])\n",
    "    row = users[users['name'] == user]\n",
    "    \n",
    "    if row.empty:\n",
    "        response = nonejson\n",
    "    elif int(row['gender']) == 0:\n",
    "         response = malejson\n",
    "    elif int(row['gender']) == 1:\n",
    "         response = femalejson\n",
    "    else:\n",
    "         response = nonejson\n",
    "    return response"
   ]
  },
  {
   "cell_type": "code",
   "execution_count": null,
   "metadata": {},
   "outputs": [
    {
     "name": "stdout",
     "output_type": "stream",
     "text": [
      " * Serving Flask app \"__main__\" (lazy loading)\n",
      " * Environment: production\n",
      "   WARNING: Do not use the development server in a production environment.\n",
      "   Use a production WSGI server instead.\n",
      " * Debug mode: off\n"
     ]
    },
    {
     "name": "stderr",
     "output_type": "stream",
     "text": [
      " * Running on http://127.0.0.1:5000/ (Press CTRL+C to quit)\n",
      "127.0.0.1 - - [18/Jul/2019 13:30:14] \"\u001b[37mPOST /index HTTP/1.1\u001b[0m\" 200 -\n",
      "127.0.0.1 - - [18/Jul/2019 13:30:19] \"\u001b[37mPOST /index HTTP/1.1\u001b[0m\" 200 -\n",
      "127.0.0.1 - - [18/Jul/2019 13:30:24] \"\u001b[37mPOST /index HTTP/1.1\u001b[0m\" 200 -\n"
     ]
    }
   ],
   "source": [
    "app.run(debug = False)"
   ]
  },
  {
   "cell_type": "code",
   "execution_count": null,
   "metadata": {},
   "outputs": [],
   "source": []
  }
 ],
 "metadata": {
  "kernelspec": {
   "display_name": "Python 3",
   "language": "python",
   "name": "python3"
  },
  "language_info": {
   "codemirror_mode": {
    "name": "ipython",
    "version": 3
   },
   "file_extension": ".py",
   "mimetype": "text/x-python",
   "name": "python",
   "nbconvert_exporter": "python",
   "pygments_lexer": "ipython3",
   "version": "3.7.3"
  }
 },
 "nbformat": 4,
 "nbformat_minor": 2
}
